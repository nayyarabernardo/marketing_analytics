{
  "cells": [
    {
      "cell_type": "markdown",
      "metadata": {
        "id": "N1tsDlTHdiLp"
      },
      "source": [
        "#PROJETO INDIVIDUAL"
      ]
    },
    {
      "cell_type": "markdown",
      "metadata": {
        "id": "KtC158RJe-Us"
      },
      "source": [
        "#1. Bibliotecas"
      ]
    },
    {
      "cell_type": "markdown",
      "metadata": {
        "id": "u0Md5AjzfFgO"
      },
      "source": [
        "###1.1.Instalações de Bibliotecas"
      ]
    },
    {
      "cell_type": "code",
      "execution_count": null,
      "metadata": {
        "id": "yG3uzGnOfFHh"
      },
      "outputs": [],
      "source": [
        "!pip install pyspark \n",
        "!pip install pymongo\n",
        "!pip install gcsfs\n",
        "!pip install pymysql"
      ]
    },
    {
      "cell_type": "markdown",
      "metadata": {
        "id": "cNh5BrxZePdT"
      },
      "source": [
        "###1.2.Importação das Bibliotecas"
      ]
    },
    {
      "cell_type": "code",
      "execution_count": null,
      "metadata": {
        "id": "U1vmeG0Zc_dZ"
      },
      "outputs": [],
      "source": [
        "import pandas as pd\n",
        "import numpy as np\n",
        "from pyspark.sql import SparkSession\n",
        "from pymongo import MongoClient\n",
        "import os\n",
        "import pyspark.sql.functions as F\n",
        "from pyspark.sql.types import *\n",
        "from sqlalchemy import create_engine"
      ]
    },
    {
      "cell_type": "markdown",
      "metadata": {
        "id": "h9QCAGM0f62E"
      },
      "source": [
        "###1.3.Conectar com Bibliotecas"
      ]
    },
    {
      "cell_type": "markdown",
      "metadata": {
        "id": "epipZKUigKI5"
      },
      "source": [
        "####1.3.1.GCP"
      ]
    },
    {
      "cell_type": "code",
      "execution_count": null,
      "metadata": {
        "id": "LStj8I5af7QI"
      },
      "outputs": [],
      "source": [
        "#Conecção com a GCP\n",
        "serviceAccount = '/content/key-store-via-colab.json'\n",
        "os.environ['GOOGLE_APPLICATION_CREDENTIALS'] = serviceAccount"
      ]
    },
    {
      "cell_type": "markdown",
      "metadata": {
        "id": "cij2uj-IgPIR"
      },
      "source": [
        "####1.3.2.PySpark"
      ]
    },
    {
      "cell_type": "code",
      "execution_count": null,
      "metadata": {
        "id": "LuMtBkS9gSMq"
      },
      "outputs": [],
      "source": [
        "#CONFIGURAR A SPARK SESSION\n",
        "spark = (\n",
        "   SparkSession.builder\n",
        "               .master('local')\n",
        "               .appName('gcsfs') \n",
        "               .config('spark.ui.port', '4050')\n",
        "               .config(\"spark.jars\", 'https://storage.googleapis.com/hadoop-lib/gcs/gcs-connector-hadoop2-latest.jar') #config acesso conector gcp\n",
        "               .getOrCreate()                \n",
        ")\n",
        "   "
      ]
    },
    {
      "cell_type": "code",
      "execution_count": null,
      "metadata": {
        "colab": {
          "base_uri": "https://localhost:8080/"
        },
        "id": "QtdqEHDrjV7x",
        "outputId": "4cdacf45-7d4d-43f8-db44-bcd7e2ca7248"
      },
      "outputs": [
        {
          "data": {
            "text/html": [
              "\n",
              "            <div>\n",
              "                <p><b>SparkSession - in-memory</b></p>\n",
              "                \n",
              "        <div>\n",
              "            <p><b>SparkContext</b></p>\n",
              "\n",
              "            <p><a href=\"http://ab76a8570a3b:4050\">Spark UI</a></p>\n",
              "\n",
              "            <dl>\n",
              "              <dt>Version</dt>\n",
              "                <dd><code>v3.3.1</code></dd>\n",
              "              <dt>Master</dt>\n",
              "                <dd><code>local</code></dd>\n",
              "              <dt>AppName</dt>\n",
              "                <dd><code>gcsfs</code></dd>\n",
              "            </dl>\n",
              "        </div>\n",
              "        \n",
              "            </div>\n",
              "        "
            ],
            "text/plain": [
              "<pyspark.sql.session.SparkSession at 0x7ff14ecc0820>"
            ]
          },
          "execution_count": 5,
          "metadata": {},
          "output_type": "execute_result"
        }
      ],
      "source": [
        "spark"
      ]
    },
    {
      "cell_type": "markdown",
      "metadata": {
        "id": "H5YciI29gWYJ"
      },
      "source": [
        "####1.3.3.Mongo"
      ]
    },
    {
      "cell_type": "code",
      "execution_count": null,
      "metadata": {
        "id": "kdEi1fXfgXUs"
      },
      "outputs": [],
      "source": [
        "#conector do Mongo Atlas\n",
        "uri = \"mongodb+srv://nayyarabernardo-soulcod.mv7bzjn.mongodb.net/?authSource=%24external&authMechanism=MONGODB-X509&retryWrites=true&w=majority\"\n",
        "client = MongoClient(uri, \n",
        "                     tls=True, \n",
        "                     tlsCertificateKeyFile='/content/drive/MyDrive/BC26-ENG DADOS-PYTHON/PROJETOS/PROJETO AQUECIMENTO/X509-cert-3376380089754927980.pem')"
      ]
    },
    {
      "cell_type": "markdown",
      "metadata": {
        "id": "QVKP_VmeghUY"
      },
      "source": [
        "#2.Load - Carregamento de dados originais - GCP e MongoDB"
      ]
    },
    {
      "cell_type": "markdown",
      "metadata": {
        "id": "QMZN4S-igkQl"
      },
      "source": [
        "##2.1.Carregando os arquivos Originais para o Bucket"
      ]
    },
    {
      "cell_type": "code",
      "execution_count": null,
      "metadata": {
        "id": "KoRdarK9gi18"
      },
      "outputs": [],
      "source": [
        "#CRIAR UM DF COM ESSES ARQUIVOS \n",
        "df_01 = pd.read_csv('/content/marketing_campaign.csv', sep=\"\\t\")\n",
        "\n",
        "\n",
        "#ENVIAR ESSE DF PARA O BUCKET\n",
        "df_01.to_csv('gs://projeto_cat/ORIGINAL/marketing_campaign.csv', index=False)"
      ]
    },
    {
      "cell_type": "markdown",
      "metadata": {
        "id": "hHv9khdag2PN"
      },
      "source": [
        "##2.2.Carregando os arquivos Brutos para o MongoDB"
      ]
    },
    {
      "cell_type": "code",
      "execution_count": null,
      "metadata": {
        "id": "V9L_Zudq2uhD"
      },
      "outputs": [],
      "source": [
        "#Criar conexão\n",
        "db = client['dados_mark']"
      ]
    },
    {
      "cell_type": "code",
      "execution_count": null,
      "metadata": {
        "id": "c-hz5yXx2vxM"
      },
      "outputs": [],
      "source": [
        "# #Criar e enviar coleção ORIGINAL  \n",
        "colecao_1 = db['marketing_campaign-ORIGINAL']\n",
        "df1_dict = df_01.to_dict('records')\n",
        "# Inserindo os dados no mongodb\n",
        "colecao_1.insert_many(df1_dict)"
      ]
    },
    {
      "cell_type": "markdown",
      "metadata": {
        "id": "DfV7RBHygxX9"
      },
      "source": [
        "#3.Extract - Extração de dados do data lake"
      ]
    },
    {
      "cell_type": "code",
      "execution_count": null,
      "metadata": {
        "id": "V8CGA7NRy3LQ"
      },
      "outputs": [],
      "source": [
        "#Para configurar meu display pandas \n",
        "pd.set_option('display.max_columns',25)"
      ]
    },
    {
      "cell_type": "code",
      "execution_count": null,
      "metadata": {
        "id": "Wcu6EXvahPph"
      },
      "outputs": [],
      "source": [
        "df_1 = pd.read_csv('gs://projeto_cat/ORIGINAL/marketing_campaign.csv')"
      ]
    },
    {
      "cell_type": "markdown",
      "metadata": {
        "id": "ujT4UN4u5ff7"
      },
      "source": [
        "#4.Trasnform - Tratamento utlizando Pandas e PySpark"
      ]
    },
    {
      "cell_type": "markdown",
      "metadata": {
        "id": "NXikv6i35tWu"
      },
      "source": [
        "##4.1.PANDAS"
      ]
    },
    {
      "cell_type": "code",
      "execution_count": null,
      "metadata": {
        "id": "XVpn_lFL6qV7"
      },
      "outputs": [],
      "source": [
        "#Backap do DF GERAL geral\n",
        "dfbackgeral = df_1.copy()"
      ]
    },
    {
      "cell_type": "markdown",
      "metadata": {
        "id": "LUZ5WiN96hbl"
      },
      "source": [
        "###Pre-analise dos dados"
      ]
    },
    {
      "cell_type": "code",
      "execution_count": null,
      "metadata": {
        "colab": {
          "base_uri": "https://localhost:8080/"
        },
        "id": "68YUovP16eym",
        "outputId": "971e8020-b2d1-40cc-aa9e-6e6ec6f51426"
      },
      "outputs": [
        {
          "data": {
            "text/plain": [
              "(2240, 29)"
            ]
          },
          "execution_count": 13,
          "metadata": {},
          "output_type": "execute_result"
        }
      ],
      "source": [
        "#Determinando de linhas e de colunas\n",
        "df_1.shape"
      ]
    },
    {
      "cell_type": "code",
      "execution_count": null,
      "metadata": {
        "colab": {
          "base_uri": "https://localhost:8080/",
          "height": 300
        },
        "id": "F_rK1a_d6IGI",
        "outputId": "e5e62356-50c4-4ea4-a63c-65104de07f48"
      },
      "outputs": [
        {
          "data": {
            "text/html": [
              "\n",
              "  <div id=\"df-380856ba-7423-4a72-bbc6-0ca1f4cad867\">\n",
              "    <div class=\"colab-df-container\">\n",
              "      <div>\n",
              "<style scoped>\n",
              "    .dataframe tbody tr th:only-of-type {\n",
              "        vertical-align: middle;\n",
              "    }\n",
              "\n",
              "    .dataframe tbody tr th {\n",
              "        vertical-align: top;\n",
              "    }\n",
              "\n",
              "    .dataframe thead th {\n",
              "        text-align: right;\n",
              "    }\n",
              "</style>\n",
              "<table border=\"1\" class=\"dataframe\">\n",
              "  <thead>\n",
              "    <tr style=\"text-align: right;\">\n",
              "      <th></th>\n",
              "      <th>ID</th>\n",
              "      <th>Year_Birth</th>\n",
              "      <th>Education</th>\n",
              "      <th>Marital_Status</th>\n",
              "      <th>Income</th>\n",
              "      <th>Kidhome</th>\n",
              "      <th>Teenhome</th>\n",
              "      <th>Dt_Customer</th>\n",
              "      <th>Recency</th>\n",
              "      <th>MntWines</th>\n",
              "      <th>MntFruits</th>\n",
              "      <th>MntMeatProducts</th>\n",
              "      <th>...</th>\n",
              "      <th>NumCatalogPurchases</th>\n",
              "      <th>NumStorePurchases</th>\n",
              "      <th>NumWebVisitsMonth</th>\n",
              "      <th>AcceptedCmp3</th>\n",
              "      <th>AcceptedCmp4</th>\n",
              "      <th>AcceptedCmp5</th>\n",
              "      <th>AcceptedCmp1</th>\n",
              "      <th>AcceptedCmp2</th>\n",
              "      <th>Complain</th>\n",
              "      <th>Z_CostContact</th>\n",
              "      <th>Z_Revenue</th>\n",
              "      <th>Response</th>\n",
              "    </tr>\n",
              "  </thead>\n",
              "  <tbody>\n",
              "    <tr>\n",
              "      <th>0</th>\n",
              "      <td>5524</td>\n",
              "      <td>1957</td>\n",
              "      <td>Graduation</td>\n",
              "      <td>Single</td>\n",
              "      <td>58138.0</td>\n",
              "      <td>0</td>\n",
              "      <td>0</td>\n",
              "      <td>04-09-2012</td>\n",
              "      <td>58</td>\n",
              "      <td>635</td>\n",
              "      <td>88</td>\n",
              "      <td>546</td>\n",
              "      <td>...</td>\n",
              "      <td>10</td>\n",
              "      <td>4</td>\n",
              "      <td>7</td>\n",
              "      <td>0</td>\n",
              "      <td>0</td>\n",
              "      <td>0</td>\n",
              "      <td>0</td>\n",
              "      <td>0</td>\n",
              "      <td>0</td>\n",
              "      <td>3</td>\n",
              "      <td>11</td>\n",
              "      <td>1</td>\n",
              "    </tr>\n",
              "    <tr>\n",
              "      <th>1</th>\n",
              "      <td>2174</td>\n",
              "      <td>1954</td>\n",
              "      <td>Graduation</td>\n",
              "      <td>Single</td>\n",
              "      <td>46344.0</td>\n",
              "      <td>1</td>\n",
              "      <td>1</td>\n",
              "      <td>08-03-2014</td>\n",
              "      <td>38</td>\n",
              "      <td>11</td>\n",
              "      <td>1</td>\n",
              "      <td>6</td>\n",
              "      <td>...</td>\n",
              "      <td>1</td>\n",
              "      <td>2</td>\n",
              "      <td>5</td>\n",
              "      <td>0</td>\n",
              "      <td>0</td>\n",
              "      <td>0</td>\n",
              "      <td>0</td>\n",
              "      <td>0</td>\n",
              "      <td>0</td>\n",
              "      <td>3</td>\n",
              "      <td>11</td>\n",
              "      <td>0</td>\n",
              "    </tr>\n",
              "    <tr>\n",
              "      <th>2</th>\n",
              "      <td>4141</td>\n",
              "      <td>1965</td>\n",
              "      <td>Graduation</td>\n",
              "      <td>Together</td>\n",
              "      <td>71613.0</td>\n",
              "      <td>0</td>\n",
              "      <td>0</td>\n",
              "      <td>21-08-2013</td>\n",
              "      <td>26</td>\n",
              "      <td>426</td>\n",
              "      <td>49</td>\n",
              "      <td>127</td>\n",
              "      <td>...</td>\n",
              "      <td>2</td>\n",
              "      <td>10</td>\n",
              "      <td>4</td>\n",
              "      <td>0</td>\n",
              "      <td>0</td>\n",
              "      <td>0</td>\n",
              "      <td>0</td>\n",
              "      <td>0</td>\n",
              "      <td>0</td>\n",
              "      <td>3</td>\n",
              "      <td>11</td>\n",
              "      <td>0</td>\n",
              "    </tr>\n",
              "    <tr>\n",
              "      <th>3</th>\n",
              "      <td>6182</td>\n",
              "      <td>1984</td>\n",
              "      <td>Graduation</td>\n",
              "      <td>Together</td>\n",
              "      <td>26646.0</td>\n",
              "      <td>1</td>\n",
              "      <td>0</td>\n",
              "      <td>10-02-2014</td>\n",
              "      <td>26</td>\n",
              "      <td>11</td>\n",
              "      <td>4</td>\n",
              "      <td>20</td>\n",
              "      <td>...</td>\n",
              "      <td>0</td>\n",
              "      <td>4</td>\n",
              "      <td>6</td>\n",
              "      <td>0</td>\n",
              "      <td>0</td>\n",
              "      <td>0</td>\n",
              "      <td>0</td>\n",
              "      <td>0</td>\n",
              "      <td>0</td>\n",
              "      <td>3</td>\n",
              "      <td>11</td>\n",
              "      <td>0</td>\n",
              "    </tr>\n",
              "    <tr>\n",
              "      <th>4</th>\n",
              "      <td>5324</td>\n",
              "      <td>1981</td>\n",
              "      <td>PhD</td>\n",
              "      <td>Married</td>\n",
              "      <td>58293.0</td>\n",
              "      <td>1</td>\n",
              "      <td>0</td>\n",
              "      <td>19-01-2014</td>\n",
              "      <td>94</td>\n",
              "      <td>173</td>\n",
              "      <td>43</td>\n",
              "      <td>118</td>\n",
              "      <td>...</td>\n",
              "      <td>3</td>\n",
              "      <td>6</td>\n",
              "      <td>5</td>\n",
              "      <td>0</td>\n",
              "      <td>0</td>\n",
              "      <td>0</td>\n",
              "      <td>0</td>\n",
              "      <td>0</td>\n",
              "      <td>0</td>\n",
              "      <td>3</td>\n",
              "      <td>11</td>\n",
              "      <td>0</td>\n",
              "    </tr>\n",
              "  </tbody>\n",
              "</table>\n",
              "<p>5 rows × 29 columns</p>\n",
              "</div>\n",
              "      <button class=\"colab-df-convert\" onclick=\"convertToInteractive('df-380856ba-7423-4a72-bbc6-0ca1f4cad867')\"\n",
              "              title=\"Convert this dataframe to an interactive table.\"\n",
              "              style=\"display:none;\">\n",
              "        \n",
              "  <svg xmlns=\"http://www.w3.org/2000/svg\" height=\"24px\"viewBox=\"0 0 24 24\"\n",
              "       width=\"24px\">\n",
              "    <path d=\"M0 0h24v24H0V0z\" fill=\"none\"/>\n",
              "    <path d=\"M18.56 5.44l.94 2.06.94-2.06 2.06-.94-2.06-.94-.94-2.06-.94 2.06-2.06.94zm-11 1L8.5 8.5l.94-2.06 2.06-.94-2.06-.94L8.5 2.5l-.94 2.06-2.06.94zm10 10l.94 2.06.94-2.06 2.06-.94-2.06-.94-.94-2.06-.94 2.06-2.06.94z\"/><path d=\"M17.41 7.96l-1.37-1.37c-.4-.4-.92-.59-1.43-.59-.52 0-1.04.2-1.43.59L10.3 9.45l-7.72 7.72c-.78.78-.78 2.05 0 2.83L4 21.41c.39.39.9.59 1.41.59.51 0 1.02-.2 1.41-.59l7.78-7.78 2.81-2.81c.8-.78.8-2.07 0-2.86zM5.41 20L4 18.59l7.72-7.72 1.47 1.35L5.41 20z\"/>\n",
              "  </svg>\n",
              "      </button>\n",
              "      \n",
              "  <style>\n",
              "    .colab-df-container {\n",
              "      display:flex;\n",
              "      flex-wrap:wrap;\n",
              "      gap: 12px;\n",
              "    }\n",
              "\n",
              "    .colab-df-convert {\n",
              "      background-color: #E8F0FE;\n",
              "      border: none;\n",
              "      border-radius: 50%;\n",
              "      cursor: pointer;\n",
              "      display: none;\n",
              "      fill: #1967D2;\n",
              "      height: 32px;\n",
              "      padding: 0 0 0 0;\n",
              "      width: 32px;\n",
              "    }\n",
              "\n",
              "    .colab-df-convert:hover {\n",
              "      background-color: #E2EBFA;\n",
              "      box-shadow: 0px 1px 2px rgba(60, 64, 67, 0.3), 0px 1px 3px 1px rgba(60, 64, 67, 0.15);\n",
              "      fill: #174EA6;\n",
              "    }\n",
              "\n",
              "    [theme=dark] .colab-df-convert {\n",
              "      background-color: #3B4455;\n",
              "      fill: #D2E3FC;\n",
              "    }\n",
              "\n",
              "    [theme=dark] .colab-df-convert:hover {\n",
              "      background-color: #434B5C;\n",
              "      box-shadow: 0px 1px 3px 1px rgba(0, 0, 0, 0.15);\n",
              "      filter: drop-shadow(0px 1px 2px rgba(0, 0, 0, 0.3));\n",
              "      fill: #FFFFFF;\n",
              "    }\n",
              "  </style>\n",
              "\n",
              "      <script>\n",
              "        const buttonEl =\n",
              "          document.querySelector('#df-380856ba-7423-4a72-bbc6-0ca1f4cad867 button.colab-df-convert');\n",
              "        buttonEl.style.display =\n",
              "          google.colab.kernel.accessAllowed ? 'block' : 'none';\n",
              "\n",
              "        async function convertToInteractive(key) {\n",
              "          const element = document.querySelector('#df-380856ba-7423-4a72-bbc6-0ca1f4cad867');\n",
              "          const dataTable =\n",
              "            await google.colab.kernel.invokeFunction('convertToInteractive',\n",
              "                                                     [key], {});\n",
              "          if (!dataTable) return;\n",
              "\n",
              "          const docLinkHtml = 'Like what you see? Visit the ' +\n",
              "            '<a target=\"_blank\" href=https://colab.research.google.com/notebooks/data_table.ipynb>data table notebook</a>'\n",
              "            + ' to learn more about interactive tables.';\n",
              "          element.innerHTML = '';\n",
              "          dataTable['output_type'] = 'display_data';\n",
              "          await google.colab.output.renderOutput(dataTable, element);\n",
              "          const docLink = document.createElement('div');\n",
              "          docLink.innerHTML = docLinkHtml;\n",
              "          element.appendChild(docLink);\n",
              "        }\n",
              "      </script>\n",
              "    </div>\n",
              "  </div>\n",
              "  "
            ],
            "text/plain": [
              "     ID  Year_Birth   Education Marital_Status   Income  Kidhome  Teenhome  \\\n",
              "0  5524        1957  Graduation         Single  58138.0        0         0   \n",
              "1  2174        1954  Graduation         Single  46344.0        1         1   \n",
              "2  4141        1965  Graduation       Together  71613.0        0         0   \n",
              "3  6182        1984  Graduation       Together  26646.0        1         0   \n",
              "4  5324        1981         PhD        Married  58293.0        1         0   \n",
              "\n",
              "  Dt_Customer  Recency  MntWines  MntFruits  MntMeatProducts  ...  \\\n",
              "0  04-09-2012       58       635         88              546  ...   \n",
              "1  08-03-2014       38        11          1                6  ...   \n",
              "2  21-08-2013       26       426         49              127  ...   \n",
              "3  10-02-2014       26        11          4               20  ...   \n",
              "4  19-01-2014       94       173         43              118  ...   \n",
              "\n",
              "   NumCatalogPurchases  NumStorePurchases  NumWebVisitsMonth  AcceptedCmp3  \\\n",
              "0                   10                  4                  7             0   \n",
              "1                    1                  2                  5             0   \n",
              "2                    2                 10                  4             0   \n",
              "3                    0                  4                  6             0   \n",
              "4                    3                  6                  5             0   \n",
              "\n",
              "   AcceptedCmp4  AcceptedCmp5  AcceptedCmp1  AcceptedCmp2  Complain  \\\n",
              "0             0             0             0             0         0   \n",
              "1             0             0             0             0         0   \n",
              "2             0             0             0             0         0   \n",
              "3             0             0             0             0         0   \n",
              "4             0             0             0             0         0   \n",
              "\n",
              "   Z_CostContact  Z_Revenue  Response  \n",
              "0              3         11         1  \n",
              "1              3         11         0  \n",
              "2              3         11         0  \n",
              "3              3         11         0  \n",
              "4              3         11         0  \n",
              "\n",
              "[5 rows x 29 columns]"
            ]
          },
          "execution_count": 14,
          "metadata": {},
          "output_type": "execute_result"
        }
      ],
      "source": [
        "#Analisar as primeiras linhas para ter uma compreensão basica do df\n",
        "\n",
        "df_1.head(5)"
      ]
    },
    {
      "cell_type": "code",
      "execution_count": null,
      "metadata": {
        "colab": {
          "base_uri": "https://localhost:8080/"
        },
        "id": "wetMN_FtCN-B",
        "outputId": "54140cb0-aedf-4620-e680-570530c5ebd7"
      },
      "outputs": [
        {
          "data": {
            "text/plain": [
              "ID                       int64\n",
              "Year_Birth               int64\n",
              "Education               object\n",
              "Marital_Status          object\n",
              "Income                 float64\n",
              "Kidhome                  int64\n",
              "Teenhome                 int64\n",
              "Dt_Customer             object\n",
              "Recency                  int64\n",
              "MntWines                 int64\n",
              "MntFruits                int64\n",
              "MntMeatProducts          int64\n",
              "MntFishProducts          int64\n",
              "MntSweetProducts         int64\n",
              "MntGoldProds             int64\n",
              "NumDealsPurchases        int64\n",
              "NumWebPurchases          int64\n",
              "NumCatalogPurchases      int64\n",
              "NumStorePurchases        int64\n",
              "NumWebVisitsMonth        int64\n",
              "AcceptedCmp3             int64\n",
              "AcceptedCmp4             int64\n",
              "AcceptedCmp5             int64\n",
              "AcceptedCmp1             int64\n",
              "AcceptedCmp2             int64\n",
              "Complain                 int64\n",
              "Z_CostContact            int64\n",
              "Z_Revenue                int64\n",
              "Response                 int64\n",
              "dtype: object"
            ]
          },
          "execution_count": 15,
          "metadata": {},
          "output_type": "execute_result"
        }
      ],
      "source": [
        "df_1.dtypes"
      ]
    },
    {
      "cell_type": "code",
      "execution_count": null,
      "metadata": {
        "colab": {
          "base_uri": "https://localhost:8080/"
        },
        "id": "IWnIvXHLCby1",
        "outputId": "e333d6ba-3cfc-4612-a894-a93ac1dfd510"
      },
      "outputs": [
        {
          "data": {
            "text/plain": [
              "ID                     2240\n",
              "Year_Birth               59\n",
              "Education                 5\n",
              "Marital_Status            8\n",
              "Income                 1974\n",
              "Kidhome                   3\n",
              "Teenhome                  3\n",
              "Dt_Customer             663\n",
              "Recency                 100\n",
              "MntWines                776\n",
              "MntFruits               158\n",
              "MntMeatProducts         558\n",
              "MntFishProducts         182\n",
              "MntSweetProducts        177\n",
              "MntGoldProds            213\n",
              "NumDealsPurchases        15\n",
              "NumWebPurchases          15\n",
              "NumCatalogPurchases      14\n",
              "NumStorePurchases        14\n",
              "NumWebVisitsMonth        16\n",
              "AcceptedCmp3              2\n",
              "AcceptedCmp4              2\n",
              "AcceptedCmp5              2\n",
              "AcceptedCmp1              2\n",
              "AcceptedCmp2              2\n",
              "Complain                  2\n",
              "Z_CostContact             1\n",
              "Z_Revenue                 1\n",
              "Response                  2\n",
              "dtype: int64"
            ]
          },
          "execution_count": 17,
          "metadata": {},
          "output_type": "execute_result"
        }
      ],
      "source": [
        "df_1.nunique()"
      ]
    },
    {
      "cell_type": "code",
      "execution_count": null,
      "metadata": {
        "colab": {
          "base_uri": "https://localhost:8080/"
        },
        "id": "aSRwqBbMEM3s",
        "outputId": "0afc772f-515f-4065-e8fe-ee6de01f113f"
      },
      "outputs": [
        {
          "data": {
            "text/plain": [
              "True"
            ]
          },
          "execution_count": 18,
          "metadata": {},
          "output_type": "execute_result"
        }
      ],
      "source": [
        "df_1['ID'].is_unique"
      ]
    },
    {
      "cell_type": "code",
      "execution_count": null,
      "metadata": {
        "colab": {
          "base_uri": "https://localhost:8080/"
        },
        "id": "S29UsCr4C4Nr",
        "outputId": "7bca01bd-efb6-4f0d-fe57-7ee55833ddc1"
      },
      "outputs": [
        {
          "data": {
            "text/plain": [
              "['2n Cycle', 'Basic', 'Graduation', 'Master', 'PhD']"
            ]
          },
          "execution_count": 19,
          "metadata": {},
          "output_type": "execute_result"
        }
      ],
      "source": [
        "sorted(pd.unique(df_1['Education']))"
      ]
    },
    {
      "cell_type": "code",
      "execution_count": null,
      "metadata": {
        "colab": {
          "base_uri": "https://localhost:8080/"
        },
        "id": "txqFRw1sDQ_o",
        "outputId": "b1100a74-606d-42ab-d466-354c3ab3fbeb"
      },
      "outputs": [
        {
          "data": {
            "text/plain": [
              "['Absurd',\n",
              " 'Alone',\n",
              " 'Divorced',\n",
              " 'Married',\n",
              " 'Single',\n",
              " 'Together',\n",
              " 'Widow',\n",
              " 'YOLO']"
            ]
          },
          "execution_count": 20,
          "metadata": {},
          "output_type": "execute_result"
        }
      ],
      "source": [
        "sorted(pd.unique(df_1['Marital_Status']))"
      ]
    },
    {
      "cell_type": "code",
      "execution_count": null,
      "metadata": {
        "colab": {
          "base_uri": "https://localhost:8080/",
          "height": 488
        },
        "id": "DH8ieb2SCn5Z",
        "outputId": "89a4db66-1566-46ec-9e51-9e3a3cf3bee1"
      },
      "outputs": [
        {
          "data": {
            "text/html": [
              "\n",
              "  <div id=\"df-54664c04-5fce-4818-adec-86312ac36b70\">\n",
              "    <div class=\"colab-df-container\">\n",
              "      <div>\n",
              "<style scoped>\n",
              "    .dataframe tbody tr th:only-of-type {\n",
              "        vertical-align: middle;\n",
              "    }\n",
              "\n",
              "    .dataframe tbody tr th {\n",
              "        vertical-align: top;\n",
              "    }\n",
              "\n",
              "    .dataframe thead th {\n",
              "        text-align: right;\n",
              "    }\n",
              "</style>\n",
              "<table border=\"1\" class=\"dataframe\">\n",
              "  <thead>\n",
              "    <tr style=\"text-align: right;\">\n",
              "      <th></th>\n",
              "      <th>ID</th>\n",
              "      <th>Year_Birth</th>\n",
              "      <th>Education</th>\n",
              "      <th>Marital_Status</th>\n",
              "      <th>Income</th>\n",
              "      <th>Kidhome</th>\n",
              "      <th>Teenhome</th>\n",
              "      <th>Dt_Customer</th>\n",
              "      <th>Recency</th>\n",
              "      <th>MntWines</th>\n",
              "      <th>MntFruits</th>\n",
              "      <th>MntMeatProducts</th>\n",
              "      <th>...</th>\n",
              "      <th>NumCatalogPurchases</th>\n",
              "      <th>NumStorePurchases</th>\n",
              "      <th>NumWebVisitsMonth</th>\n",
              "      <th>AcceptedCmp3</th>\n",
              "      <th>AcceptedCmp4</th>\n",
              "      <th>AcceptedCmp5</th>\n",
              "      <th>AcceptedCmp1</th>\n",
              "      <th>AcceptedCmp2</th>\n",
              "      <th>Complain</th>\n",
              "      <th>Z_CostContact</th>\n",
              "      <th>Z_Revenue</th>\n",
              "      <th>Response</th>\n",
              "    </tr>\n",
              "  </thead>\n",
              "  <tbody>\n",
              "    <tr>\n",
              "      <th>0</th>\n",
              "      <td>5524</td>\n",
              "      <td>1957</td>\n",
              "      <td>Graduation</td>\n",
              "      <td>Single</td>\n",
              "      <td>58138.0</td>\n",
              "      <td>0</td>\n",
              "      <td>0</td>\n",
              "      <td>04-09-2012</td>\n",
              "      <td>58</td>\n",
              "      <td>635</td>\n",
              "      <td>88</td>\n",
              "      <td>546</td>\n",
              "      <td>...</td>\n",
              "      <td>10</td>\n",
              "      <td>4</td>\n",
              "      <td>7</td>\n",
              "      <td>0</td>\n",
              "      <td>0</td>\n",
              "      <td>0</td>\n",
              "      <td>0</td>\n",
              "      <td>0</td>\n",
              "      <td>0</td>\n",
              "      <td>3</td>\n",
              "      <td>11</td>\n",
              "      <td>1</td>\n",
              "    </tr>\n",
              "    <tr>\n",
              "      <th>1</th>\n",
              "      <td>2174</td>\n",
              "      <td>1954</td>\n",
              "      <td>Graduation</td>\n",
              "      <td>Single</td>\n",
              "      <td>46344.0</td>\n",
              "      <td>1</td>\n",
              "      <td>1</td>\n",
              "      <td>08-03-2014</td>\n",
              "      <td>38</td>\n",
              "      <td>11</td>\n",
              "      <td>1</td>\n",
              "      <td>6</td>\n",
              "      <td>...</td>\n",
              "      <td>1</td>\n",
              "      <td>2</td>\n",
              "      <td>5</td>\n",
              "      <td>0</td>\n",
              "      <td>0</td>\n",
              "      <td>0</td>\n",
              "      <td>0</td>\n",
              "      <td>0</td>\n",
              "      <td>0</td>\n",
              "      <td>3</td>\n",
              "      <td>11</td>\n",
              "      <td>0</td>\n",
              "    </tr>\n",
              "    <tr>\n",
              "      <th>2</th>\n",
              "      <td>4141</td>\n",
              "      <td>1965</td>\n",
              "      <td>Graduation</td>\n",
              "      <td>Together</td>\n",
              "      <td>71613.0</td>\n",
              "      <td>0</td>\n",
              "      <td>0</td>\n",
              "      <td>21-08-2013</td>\n",
              "      <td>26</td>\n",
              "      <td>426</td>\n",
              "      <td>49</td>\n",
              "      <td>127</td>\n",
              "      <td>...</td>\n",
              "      <td>2</td>\n",
              "      <td>10</td>\n",
              "      <td>4</td>\n",
              "      <td>0</td>\n",
              "      <td>0</td>\n",
              "      <td>0</td>\n",
              "      <td>0</td>\n",
              "      <td>0</td>\n",
              "      <td>0</td>\n",
              "      <td>3</td>\n",
              "      <td>11</td>\n",
              "      <td>0</td>\n",
              "    </tr>\n",
              "    <tr>\n",
              "      <th>3</th>\n",
              "      <td>6182</td>\n",
              "      <td>1984</td>\n",
              "      <td>Graduation</td>\n",
              "      <td>Together</td>\n",
              "      <td>26646.0</td>\n",
              "      <td>1</td>\n",
              "      <td>0</td>\n",
              "      <td>10-02-2014</td>\n",
              "      <td>26</td>\n",
              "      <td>11</td>\n",
              "      <td>4</td>\n",
              "      <td>20</td>\n",
              "      <td>...</td>\n",
              "      <td>0</td>\n",
              "      <td>4</td>\n",
              "      <td>6</td>\n",
              "      <td>0</td>\n",
              "      <td>0</td>\n",
              "      <td>0</td>\n",
              "      <td>0</td>\n",
              "      <td>0</td>\n",
              "      <td>0</td>\n",
              "      <td>3</td>\n",
              "      <td>11</td>\n",
              "      <td>0</td>\n",
              "    </tr>\n",
              "    <tr>\n",
              "      <th>4</th>\n",
              "      <td>5324</td>\n",
              "      <td>1981</td>\n",
              "      <td>PhD</td>\n",
              "      <td>Married</td>\n",
              "      <td>58293.0</td>\n",
              "      <td>1</td>\n",
              "      <td>0</td>\n",
              "      <td>19-01-2014</td>\n",
              "      <td>94</td>\n",
              "      <td>173</td>\n",
              "      <td>43</td>\n",
              "      <td>118</td>\n",
              "      <td>...</td>\n",
              "      <td>3</td>\n",
              "      <td>6</td>\n",
              "      <td>5</td>\n",
              "      <td>0</td>\n",
              "      <td>0</td>\n",
              "      <td>0</td>\n",
              "      <td>0</td>\n",
              "      <td>0</td>\n",
              "      <td>0</td>\n",
              "      <td>3</td>\n",
              "      <td>11</td>\n",
              "      <td>0</td>\n",
              "    </tr>\n",
              "    <tr>\n",
              "      <th>...</th>\n",
              "      <td>...</td>\n",
              "      <td>...</td>\n",
              "      <td>...</td>\n",
              "      <td>...</td>\n",
              "      <td>...</td>\n",
              "      <td>...</td>\n",
              "      <td>...</td>\n",
              "      <td>...</td>\n",
              "      <td>...</td>\n",
              "      <td>...</td>\n",
              "      <td>...</td>\n",
              "      <td>...</td>\n",
              "      <td>...</td>\n",
              "      <td>...</td>\n",
              "      <td>...</td>\n",
              "      <td>...</td>\n",
              "      <td>...</td>\n",
              "      <td>...</td>\n",
              "      <td>...</td>\n",
              "      <td>...</td>\n",
              "      <td>...</td>\n",
              "      <td>...</td>\n",
              "      <td>...</td>\n",
              "      <td>...</td>\n",
              "      <td>...</td>\n",
              "    </tr>\n",
              "    <tr>\n",
              "      <th>2235</th>\n",
              "      <td>10870</td>\n",
              "      <td>1967</td>\n",
              "      <td>Graduation</td>\n",
              "      <td>Married</td>\n",
              "      <td>61223.0</td>\n",
              "      <td>0</td>\n",
              "      <td>1</td>\n",
              "      <td>13-06-2013</td>\n",
              "      <td>46</td>\n",
              "      <td>709</td>\n",
              "      <td>43</td>\n",
              "      <td>182</td>\n",
              "      <td>...</td>\n",
              "      <td>3</td>\n",
              "      <td>4</td>\n",
              "      <td>5</td>\n",
              "      <td>0</td>\n",
              "      <td>0</td>\n",
              "      <td>0</td>\n",
              "      <td>0</td>\n",
              "      <td>0</td>\n",
              "      <td>0</td>\n",
              "      <td>3</td>\n",
              "      <td>11</td>\n",
              "      <td>0</td>\n",
              "    </tr>\n",
              "    <tr>\n",
              "      <th>2236</th>\n",
              "      <td>4001</td>\n",
              "      <td>1946</td>\n",
              "      <td>PhD</td>\n",
              "      <td>Together</td>\n",
              "      <td>64014.0</td>\n",
              "      <td>2</td>\n",
              "      <td>1</td>\n",
              "      <td>10-06-2014</td>\n",
              "      <td>56</td>\n",
              "      <td>406</td>\n",
              "      <td>0</td>\n",
              "      <td>30</td>\n",
              "      <td>...</td>\n",
              "      <td>2</td>\n",
              "      <td>5</td>\n",
              "      <td>7</td>\n",
              "      <td>0</td>\n",
              "      <td>0</td>\n",
              "      <td>0</td>\n",
              "      <td>1</td>\n",
              "      <td>0</td>\n",
              "      <td>0</td>\n",
              "      <td>3</td>\n",
              "      <td>11</td>\n",
              "      <td>0</td>\n",
              "    </tr>\n",
              "    <tr>\n",
              "      <th>2237</th>\n",
              "      <td>7270</td>\n",
              "      <td>1981</td>\n",
              "      <td>Graduation</td>\n",
              "      <td>Divorced</td>\n",
              "      <td>56981.0</td>\n",
              "      <td>0</td>\n",
              "      <td>0</td>\n",
              "      <td>25-01-2014</td>\n",
              "      <td>91</td>\n",
              "      <td>908</td>\n",
              "      <td>48</td>\n",
              "      <td>217</td>\n",
              "      <td>...</td>\n",
              "      <td>3</td>\n",
              "      <td>13</td>\n",
              "      <td>6</td>\n",
              "      <td>0</td>\n",
              "      <td>1</td>\n",
              "      <td>0</td>\n",
              "      <td>0</td>\n",
              "      <td>0</td>\n",
              "      <td>0</td>\n",
              "      <td>3</td>\n",
              "      <td>11</td>\n",
              "      <td>0</td>\n",
              "    </tr>\n",
              "    <tr>\n",
              "      <th>2238</th>\n",
              "      <td>8235</td>\n",
              "      <td>1956</td>\n",
              "      <td>Master</td>\n",
              "      <td>Together</td>\n",
              "      <td>69245.0</td>\n",
              "      <td>0</td>\n",
              "      <td>1</td>\n",
              "      <td>24-01-2014</td>\n",
              "      <td>8</td>\n",
              "      <td>428</td>\n",
              "      <td>30</td>\n",
              "      <td>214</td>\n",
              "      <td>...</td>\n",
              "      <td>5</td>\n",
              "      <td>10</td>\n",
              "      <td>3</td>\n",
              "      <td>0</td>\n",
              "      <td>0</td>\n",
              "      <td>0</td>\n",
              "      <td>0</td>\n",
              "      <td>0</td>\n",
              "      <td>0</td>\n",
              "      <td>3</td>\n",
              "      <td>11</td>\n",
              "      <td>0</td>\n",
              "    </tr>\n",
              "    <tr>\n",
              "      <th>2239</th>\n",
              "      <td>9405</td>\n",
              "      <td>1954</td>\n",
              "      <td>PhD</td>\n",
              "      <td>Married</td>\n",
              "      <td>52869.0</td>\n",
              "      <td>1</td>\n",
              "      <td>1</td>\n",
              "      <td>15-10-2012</td>\n",
              "      <td>40</td>\n",
              "      <td>84</td>\n",
              "      <td>3</td>\n",
              "      <td>61</td>\n",
              "      <td>...</td>\n",
              "      <td>1</td>\n",
              "      <td>4</td>\n",
              "      <td>7</td>\n",
              "      <td>0</td>\n",
              "      <td>0</td>\n",
              "      <td>0</td>\n",
              "      <td>0</td>\n",
              "      <td>0</td>\n",
              "      <td>0</td>\n",
              "      <td>3</td>\n",
              "      <td>11</td>\n",
              "      <td>1</td>\n",
              "    </tr>\n",
              "  </tbody>\n",
              "</table>\n",
              "<p>2240 rows × 29 columns</p>\n",
              "</div>\n",
              "      <button class=\"colab-df-convert\" onclick=\"convertToInteractive('df-54664c04-5fce-4818-adec-86312ac36b70')\"\n",
              "              title=\"Convert this dataframe to an interactive table.\"\n",
              "              style=\"display:none;\">\n",
              "        \n",
              "  <svg xmlns=\"http://www.w3.org/2000/svg\" height=\"24px\"viewBox=\"0 0 24 24\"\n",
              "       width=\"24px\">\n",
              "    <path d=\"M0 0h24v24H0V0z\" fill=\"none\"/>\n",
              "    <path d=\"M18.56 5.44l.94 2.06.94-2.06 2.06-.94-2.06-.94-.94-2.06-.94 2.06-2.06.94zm-11 1L8.5 8.5l.94-2.06 2.06-.94-2.06-.94L8.5 2.5l-.94 2.06-2.06.94zm10 10l.94 2.06.94-2.06 2.06-.94-2.06-.94-.94-2.06-.94 2.06-2.06.94z\"/><path d=\"M17.41 7.96l-1.37-1.37c-.4-.4-.92-.59-1.43-.59-.52 0-1.04.2-1.43.59L10.3 9.45l-7.72 7.72c-.78.78-.78 2.05 0 2.83L4 21.41c.39.39.9.59 1.41.59.51 0 1.02-.2 1.41-.59l7.78-7.78 2.81-2.81c.8-.78.8-2.07 0-2.86zM5.41 20L4 18.59l7.72-7.72 1.47 1.35L5.41 20z\"/>\n",
              "  </svg>\n",
              "      </button>\n",
              "      \n",
              "  <style>\n",
              "    .colab-df-container {\n",
              "      display:flex;\n",
              "      flex-wrap:wrap;\n",
              "      gap: 12px;\n",
              "    }\n",
              "\n",
              "    .colab-df-convert {\n",
              "      background-color: #E8F0FE;\n",
              "      border: none;\n",
              "      border-radius: 50%;\n",
              "      cursor: pointer;\n",
              "      display: none;\n",
              "      fill: #1967D2;\n",
              "      height: 32px;\n",
              "      padding: 0 0 0 0;\n",
              "      width: 32px;\n",
              "    }\n",
              "\n",
              "    .colab-df-convert:hover {\n",
              "      background-color: #E2EBFA;\n",
              "      box-shadow: 0px 1px 2px rgba(60, 64, 67, 0.3), 0px 1px 3px 1px rgba(60, 64, 67, 0.15);\n",
              "      fill: #174EA6;\n",
              "    }\n",
              "\n",
              "    [theme=dark] .colab-df-convert {\n",
              "      background-color: #3B4455;\n",
              "      fill: #D2E3FC;\n",
              "    }\n",
              "\n",
              "    [theme=dark] .colab-df-convert:hover {\n",
              "      background-color: #434B5C;\n",
              "      box-shadow: 0px 1px 3px 1px rgba(0, 0, 0, 0.15);\n",
              "      filter: drop-shadow(0px 1px 2px rgba(0, 0, 0, 0.3));\n",
              "      fill: #FFFFFF;\n",
              "    }\n",
              "  </style>\n",
              "\n",
              "      <script>\n",
              "        const buttonEl =\n",
              "          document.querySelector('#df-54664c04-5fce-4818-adec-86312ac36b70 button.colab-df-convert');\n",
              "        buttonEl.style.display =\n",
              "          google.colab.kernel.accessAllowed ? 'block' : 'none';\n",
              "\n",
              "        async function convertToInteractive(key) {\n",
              "          const element = document.querySelector('#df-54664c04-5fce-4818-adec-86312ac36b70');\n",
              "          const dataTable =\n",
              "            await google.colab.kernel.invokeFunction('convertToInteractive',\n",
              "                                                     [key], {});\n",
              "          if (!dataTable) return;\n",
              "\n",
              "          const docLinkHtml = 'Like what you see? Visit the ' +\n",
              "            '<a target=\"_blank\" href=https://colab.research.google.com/notebooks/data_table.ipynb>data table notebook</a>'\n",
              "            + ' to learn more about interactive tables.';\n",
              "          element.innerHTML = '';\n",
              "          dataTable['output_type'] = 'display_data';\n",
              "          await google.colab.output.renderOutput(dataTable, element);\n",
              "          const docLink = document.createElement('div');\n",
              "          docLink.innerHTML = docLinkHtml;\n",
              "          element.appendChild(docLink);\n",
              "        }\n",
              "      </script>\n",
              "    </div>\n",
              "  </div>\n",
              "  "
            ],
            "text/plain": [
              "         ID  Year_Birth   Education Marital_Status   Income  Kidhome  \\\n",
              "0      5524        1957  Graduation         Single  58138.0        0   \n",
              "1      2174        1954  Graduation         Single  46344.0        1   \n",
              "2      4141        1965  Graduation       Together  71613.0        0   \n",
              "3      6182        1984  Graduation       Together  26646.0        1   \n",
              "4      5324        1981         PhD        Married  58293.0        1   \n",
              "...     ...         ...         ...            ...      ...      ...   \n",
              "2235  10870        1967  Graduation        Married  61223.0        0   \n",
              "2236   4001        1946         PhD       Together  64014.0        2   \n",
              "2237   7270        1981  Graduation       Divorced  56981.0        0   \n",
              "2238   8235        1956      Master       Together  69245.0        0   \n",
              "2239   9405        1954         PhD        Married  52869.0        1   \n",
              "\n",
              "      Teenhome Dt_Customer  Recency  MntWines  MntFruits  MntMeatProducts  \\\n",
              "0            0  04-09-2012       58       635         88              546   \n",
              "1            1  08-03-2014       38        11          1                6   \n",
              "2            0  21-08-2013       26       426         49              127   \n",
              "3            0  10-02-2014       26        11          4               20   \n",
              "4            0  19-01-2014       94       173         43              118   \n",
              "...        ...         ...      ...       ...        ...              ...   \n",
              "2235         1  13-06-2013       46       709         43              182   \n",
              "2236         1  10-06-2014       56       406          0               30   \n",
              "2237         0  25-01-2014       91       908         48              217   \n",
              "2238         1  24-01-2014        8       428         30              214   \n",
              "2239         1  15-10-2012       40        84          3               61   \n",
              "\n",
              "      ...  NumCatalogPurchases  NumStorePurchases  NumWebVisitsMonth  \\\n",
              "0     ...                   10                  4                  7   \n",
              "1     ...                    1                  2                  5   \n",
              "2     ...                    2                 10                  4   \n",
              "3     ...                    0                  4                  6   \n",
              "4     ...                    3                  6                  5   \n",
              "...   ...                  ...                ...                ...   \n",
              "2235  ...                    3                  4                  5   \n",
              "2236  ...                    2                  5                  7   \n",
              "2237  ...                    3                 13                  6   \n",
              "2238  ...                    5                 10                  3   \n",
              "2239  ...                    1                  4                  7   \n",
              "\n",
              "      AcceptedCmp3  AcceptedCmp4  AcceptedCmp5  AcceptedCmp1  AcceptedCmp2  \\\n",
              "0                0             0             0             0             0   \n",
              "1                0             0             0             0             0   \n",
              "2                0             0             0             0             0   \n",
              "3                0             0             0             0             0   \n",
              "4                0             0             0             0             0   \n",
              "...            ...           ...           ...           ...           ...   \n",
              "2235             0             0             0             0             0   \n",
              "2236             0             0             0             1             0   \n",
              "2237             0             1             0             0             0   \n",
              "2238             0             0             0             0             0   \n",
              "2239             0             0             0             0             0   \n",
              "\n",
              "      Complain  Z_CostContact  Z_Revenue  Response  \n",
              "0            0              3         11         1  \n",
              "1            0              3         11         0  \n",
              "2            0              3         11         0  \n",
              "3            0              3         11         0  \n",
              "4            0              3         11         0  \n",
              "...        ...            ...        ...       ...  \n",
              "2235         0              3         11         0  \n",
              "2236         0              3         11         0  \n",
              "2237         0              3         11         0  \n",
              "2238         0              3         11         0  \n",
              "2239         0              3         11         1  \n",
              "\n",
              "[2240 rows x 29 columns]"
            ]
          },
          "execution_count": 21,
          "metadata": {},
          "output_type": "execute_result"
        }
      ],
      "source": [
        "df_1"
      ]
    },
    {
      "cell_type": "code",
      "execution_count": null,
      "metadata": {
        "colab": {
          "base_uri": "https://localhost:8080/"
        },
        "id": "vNK8i9Ss6Jpe",
        "outputId": "302b02c3-2c0e-49be-bd4a-456459cd0ad9"
      },
      "outputs": [
        {
          "data": {
            "text/plain": [
              "ID                      0\n",
              "Year_Birth              0\n",
              "Education               0\n",
              "Marital_Status          0\n",
              "Income                 24\n",
              "Kidhome                 0\n",
              "Teenhome                0\n",
              "Dt_Customer             0\n",
              "Recency                 0\n",
              "MntWines                0\n",
              "MntFruits               0\n",
              "MntMeatProducts         0\n",
              "MntFishProducts         0\n",
              "MntSweetProducts        0\n",
              "MntGoldProds            0\n",
              "NumDealsPurchases       0\n",
              "NumWebPurchases         0\n",
              "NumCatalogPurchases     0\n",
              "NumStorePurchases       0\n",
              "NumWebVisitsMonth       0\n",
              "AcceptedCmp3            0\n",
              "AcceptedCmp4            0\n",
              "AcceptedCmp5            0\n",
              "AcceptedCmp1            0\n",
              "AcceptedCmp2            0\n",
              "Complain                0\n",
              "Z_CostContact           0\n",
              "Z_Revenue               0\n",
              "Response                0\n",
              "dtype: int64"
            ]
          },
          "execution_count": 22,
          "metadata": {},
          "output_type": "execute_result"
        }
      ],
      "source": [
        "df_1.isna().sum()"
      ]
    },
    {
      "cell_type": "code",
      "execution_count": null,
      "metadata": {
        "colab": {
          "base_uri": "https://localhost:8080/"
        },
        "id": "FOnM9P_kHhOX",
        "outputId": "fab05f87-21d6-4658-d9b9-d6fc3a4915a8"
      },
      "outputs": [
        {
          "data": {
            "text/plain": [
              "666666.0"
            ]
          },
          "execution_count": 23,
          "metadata": {},
          "output_type": "execute_result"
        }
      ],
      "source": [
        "df_1.Income.max()"
      ]
    },
    {
      "cell_type": "code",
      "execution_count": null,
      "metadata": {
        "colab": {
          "base_uri": "https://localhost:8080/"
        },
        "id": "-1Kys5ewHwGL",
        "outputId": "80d5a6f9-1be7-4add-9bb0-de76259d66aa"
      },
      "outputs": [
        {
          "data": {
            "text/plain": [
              "1893"
            ]
          },
          "execution_count": 24,
          "metadata": {},
          "output_type": "execute_result"
        }
      ],
      "source": [
        "df_1.Year_Birth.min()"
      ]
    },
    {
      "cell_type": "markdown",
      "metadata": {
        "id": "4E7V2_OpFEwi"
      },
      "source": [
        "Conclusões Iniciais:\n",
        "* Somente a coluna 'Income' possui valores nulos\n",
        "* Mudar tipos: 'Ano'\n",
        "* Renomear colunas e linhas para coluna Educação e Relacionamento\n",
        "* Dropar colunas \n",
        "* Eliminar elemento discrepante\n"
      ]
    },
    {
      "cell_type": "markdown",
      "metadata": {
        "id": "j7wlhhwYE2FL"
      },
      "source": [
        "###Tratamento"
      ]
    },
    {
      "cell_type": "code",
      "execution_count": null,
      "metadata": {
        "id": "jzRFIjG0E42b"
      },
      "outputs": [],
      "source": [
        "#Renomear as colunas\n",
        "df_1.rename(columns={'Year_Birth':'ano_nascimento',\n",
        "                     'Education':'escolaridade',\n",
        "                     'Marital_Status':'estado_civil',\n",
        "                     'Income':'renda',\n",
        "                     'Kidhome':'qtd_crianca',\n",
        "                     'Teenhome':'qtd_adolescente',\n",
        "                     'Dt_Customer':'data_filiação',\n",
        "                     'Recency':'dias_ultima_compra',\n",
        "                     'MntWines':'gasto_vinho',\n",
        "                     'MntFruits':'gasto_fruta',\n",
        "                     'MntMeatProducts':'gasto_carne',\n",
        "                     'MntFishProducts':'gasto_peixe',\n",
        "                     'MntSweetProducts':'gasto_doce',\n",
        "                     'MntGoldProds':'gasto_ouro',\n",
        "                     'NumDealsPurchases':'compras_promoção',\n",
        "                     'NumWebPurchases':'compras_website',\n",
        "                     'NumCatalogPurchases':'compras_catalogo',\n",
        "                     'NumStorePurchases':'compras_loja',\n",
        "                     'NumWebVisitsMonth':'visitas_website',\n",
        "                     'AcceptedCmp1':'campanha_1',\n",
        "                     'AcceptedCmp2':'campanha_2',\n",
        "                     'AcceptedCmp3':'campanha_3',\n",
        "                     'AcceptedCmp4':'campanha_4',\n",
        "                     'AcceptedCmp5':'campanha_5',\n",
        "                     'Complain':'reclamacao',\n",
        "                     'Response':'resposta'},\n",
        "                     inplace=True)"
      ]
    },
    {
      "cell_type": "code",
      "execution_count": null,
      "metadata": {
        "colab": {
          "base_uri": "https://localhost:8080/"
        },
        "id": "d2BIah7rUCLa",
        "outputId": "698d0f23-85f2-4a1d-fbd9-96c55d14caaf"
      },
      "outputs": [
        {
          "data": {
            "text/plain": [
              "array(['Graduation', 'PhD', 'Master', 'Basic', '2n Cycle'], dtype=object)"
            ]
          },
          "execution_count": 26,
          "metadata": {},
          "output_type": "execute_result"
        }
      ],
      "source": [
        "#Para saber todos os niveis de educação cadastrados \n",
        "pd.unique(df_1['escolaridade'])"
      ]
    },
    {
      "cell_type": "code",
      "execution_count": null,
      "metadata": {
        "id": "XfPEGV7cUCBF"
      },
      "outputs": [],
      "source": [
        "# Tradução dos valores da coluna 'escolaridade'\n",
        "df_1.replace({'2n Cycle':'pos-graduação',\n",
        "              'Basic':'medio',\n",
        "              'Graduation':'superior',\n",
        "              'Master':'mestrado',\n",
        "              'PhD':'pos_doutorado'},\n",
        "              inplace=True)"
      ]
    },
    {
      "cell_type": "code",
      "execution_count": null,
      "metadata": {
        "id": "5AxzS66gY76n"
      },
      "outputs": [],
      "source": [
        "# Tradução dos valores da coluna 'estado_civil'\n",
        "df_1.replace({'Absurd':'absurdo',\n",
        "              'Alone':'sozinho',\n",
        "              'Divorced':'divorciado',\n",
        "              'Married':'casado',\n",
        "              'Single':'solteiro',\n",
        "              'Together':'em_relacionamento',\n",
        "              'Widow':'viuvo',\n",
        "              'YOLO':'yolo'},\n",
        "              inplace=True)"
      ]
    },
    {
      "cell_type": "code",
      "execution_count": null,
      "metadata": {
        "id": "gvQ5ClLQSghz"
      },
      "outputs": [],
      "source": [
        "#dropar colunas \n",
        "df_1.drop(['Z_CostContact','Z_Revenue'], axis=1, inplace = True)    "
      ]
    },
    {
      "cell_type": "code",
      "execution_count": null,
      "metadata": {
        "id": "1gvPsz8CTlYw"
      },
      "outputs": [],
      "source": [
        "#Modificando tipo da coluna 'ano nascimento' para str e data_filiação\n",
        "df_1['data_filiação'] = pd.to_datetime(df_1['data_filiação'], dayfirst=True)\n",
        "df_1['ano_nascimento']=df_1['ano_nascimento'].astype(str)"
      ]
    },
    {
      "cell_type": "code",
      "execution_count": null,
      "metadata": {
        "colab": {
          "base_uri": "https://localhost:8080/",
          "height": 205
        },
        "id": "GktcDgNBdR8R",
        "outputId": "f9c7ce41-0c3a-489b-d637-06033d8742d6"
      },
      "outputs": [
        {
          "data": {
            "text/html": [
              "\n",
              "  <div id=\"df-8260c766-85e5-4321-964f-5510606cfb2c\">\n",
              "    <div class=\"colab-df-container\">\n",
              "      <div>\n",
              "<style scoped>\n",
              "    .dataframe tbody tr th:only-of-type {\n",
              "        vertical-align: middle;\n",
              "    }\n",
              "\n",
              "    .dataframe tbody tr th {\n",
              "        vertical-align: top;\n",
              "    }\n",
              "\n",
              "    .dataframe thead th {\n",
              "        text-align: right;\n",
              "    }\n",
              "</style>\n",
              "<table border=\"1\" class=\"dataframe\">\n",
              "  <thead>\n",
              "    <tr style=\"text-align: right;\">\n",
              "      <th></th>\n",
              "      <th>ID</th>\n",
              "      <th>ano_nascimento</th>\n",
              "      <th>escolaridade</th>\n",
              "      <th>estado_civil</th>\n",
              "      <th>renda</th>\n",
              "      <th>qtd_crianca</th>\n",
              "      <th>qtd_adolescente</th>\n",
              "      <th>data_filiação</th>\n",
              "      <th>dias_ultima_compra</th>\n",
              "      <th>gasto_vinho</th>\n",
              "      <th>gasto_fruta</th>\n",
              "      <th>gasto_carne</th>\n",
              "      <th>...</th>\n",
              "      <th>compras_promoção</th>\n",
              "      <th>compras_website</th>\n",
              "      <th>compras_catalogo</th>\n",
              "      <th>compras_loja</th>\n",
              "      <th>visitas_website</th>\n",
              "      <th>campanha_3</th>\n",
              "      <th>campanha_4</th>\n",
              "      <th>campanha_5</th>\n",
              "      <th>campanha_1</th>\n",
              "      <th>campanha_2</th>\n",
              "      <th>reclamacao</th>\n",
              "      <th>resposta</th>\n",
              "    </tr>\n",
              "  </thead>\n",
              "  <tbody>\n",
              "    <tr>\n",
              "      <th>2177</th>\n",
              "      <td>492</td>\n",
              "      <td>1973</td>\n",
              "      <td>pos_doutorado</td>\n",
              "      <td>yolo</td>\n",
              "      <td>48432.0</td>\n",
              "      <td>0</td>\n",
              "      <td>1</td>\n",
              "      <td>2012-10-18</td>\n",
              "      <td>3</td>\n",
              "      <td>322</td>\n",
              "      <td>3</td>\n",
              "      <td>50</td>\n",
              "      <td>...</td>\n",
              "      <td>5</td>\n",
              "      <td>7</td>\n",
              "      <td>1</td>\n",
              "      <td>6</td>\n",
              "      <td>8</td>\n",
              "      <td>0</td>\n",
              "      <td>0</td>\n",
              "      <td>0</td>\n",
              "      <td>0</td>\n",
              "      <td>0</td>\n",
              "      <td>0</td>\n",
              "      <td>0</td>\n",
              "    </tr>\n",
              "    <tr>\n",
              "      <th>2202</th>\n",
              "      <td>11133</td>\n",
              "      <td>1973</td>\n",
              "      <td>pos_doutorado</td>\n",
              "      <td>yolo</td>\n",
              "      <td>48432.0</td>\n",
              "      <td>0</td>\n",
              "      <td>1</td>\n",
              "      <td>2012-10-18</td>\n",
              "      <td>3</td>\n",
              "      <td>322</td>\n",
              "      <td>3</td>\n",
              "      <td>50</td>\n",
              "      <td>...</td>\n",
              "      <td>5</td>\n",
              "      <td>7</td>\n",
              "      <td>1</td>\n",
              "      <td>6</td>\n",
              "      <td>8</td>\n",
              "      <td>0</td>\n",
              "      <td>0</td>\n",
              "      <td>0</td>\n",
              "      <td>0</td>\n",
              "      <td>0</td>\n",
              "      <td>0</td>\n",
              "      <td>1</td>\n",
              "    </tr>\n",
              "  </tbody>\n",
              "</table>\n",
              "<p>2 rows × 27 columns</p>\n",
              "</div>\n",
              "      <button class=\"colab-df-convert\" onclick=\"convertToInteractive('df-8260c766-85e5-4321-964f-5510606cfb2c')\"\n",
              "              title=\"Convert this dataframe to an interactive table.\"\n",
              "              style=\"display:none;\">\n",
              "        \n",
              "  <svg xmlns=\"http://www.w3.org/2000/svg\" height=\"24px\"viewBox=\"0 0 24 24\"\n",
              "       width=\"24px\">\n",
              "    <path d=\"M0 0h24v24H0V0z\" fill=\"none\"/>\n",
              "    <path d=\"M18.56 5.44l.94 2.06.94-2.06 2.06-.94-2.06-.94-.94-2.06-.94 2.06-2.06.94zm-11 1L8.5 8.5l.94-2.06 2.06-.94-2.06-.94L8.5 2.5l-.94 2.06-2.06.94zm10 10l.94 2.06.94-2.06 2.06-.94-2.06-.94-.94-2.06-.94 2.06-2.06.94z\"/><path d=\"M17.41 7.96l-1.37-1.37c-.4-.4-.92-.59-1.43-.59-.52 0-1.04.2-1.43.59L10.3 9.45l-7.72 7.72c-.78.78-.78 2.05 0 2.83L4 21.41c.39.39.9.59 1.41.59.51 0 1.02-.2 1.41-.59l7.78-7.78 2.81-2.81c.8-.78.8-2.07 0-2.86zM5.41 20L4 18.59l7.72-7.72 1.47 1.35L5.41 20z\"/>\n",
              "  </svg>\n",
              "      </button>\n",
              "      \n",
              "  <style>\n",
              "    .colab-df-container {\n",
              "      display:flex;\n",
              "      flex-wrap:wrap;\n",
              "      gap: 12px;\n",
              "    }\n",
              "\n",
              "    .colab-df-convert {\n",
              "      background-color: #E8F0FE;\n",
              "      border: none;\n",
              "      border-radius: 50%;\n",
              "      cursor: pointer;\n",
              "      display: none;\n",
              "      fill: #1967D2;\n",
              "      height: 32px;\n",
              "      padding: 0 0 0 0;\n",
              "      width: 32px;\n",
              "    }\n",
              "\n",
              "    .colab-df-convert:hover {\n",
              "      background-color: #E2EBFA;\n",
              "      box-shadow: 0px 1px 2px rgba(60, 64, 67, 0.3), 0px 1px 3px 1px rgba(60, 64, 67, 0.15);\n",
              "      fill: #174EA6;\n",
              "    }\n",
              "\n",
              "    [theme=dark] .colab-df-convert {\n",
              "      background-color: #3B4455;\n",
              "      fill: #D2E3FC;\n",
              "    }\n",
              "\n",
              "    [theme=dark] .colab-df-convert:hover {\n",
              "      background-color: #434B5C;\n",
              "      box-shadow: 0px 1px 3px 1px rgba(0, 0, 0, 0.15);\n",
              "      filter: drop-shadow(0px 1px 2px rgba(0, 0, 0, 0.3));\n",
              "      fill: #FFFFFF;\n",
              "    }\n",
              "  </style>\n",
              "\n",
              "      <script>\n",
              "        const buttonEl =\n",
              "          document.querySelector('#df-8260c766-85e5-4321-964f-5510606cfb2c button.colab-df-convert');\n",
              "        buttonEl.style.display =\n",
              "          google.colab.kernel.accessAllowed ? 'block' : 'none';\n",
              "\n",
              "        async function convertToInteractive(key) {\n",
              "          const element = document.querySelector('#df-8260c766-85e5-4321-964f-5510606cfb2c');\n",
              "          const dataTable =\n",
              "            await google.colab.kernel.invokeFunction('convertToInteractive',\n",
              "                                                     [key], {});\n",
              "          if (!dataTable) return;\n",
              "\n",
              "          const docLinkHtml = 'Like what you see? Visit the ' +\n",
              "            '<a target=\"_blank\" href=https://colab.research.google.com/notebooks/data_table.ipynb>data table notebook</a>'\n",
              "            + ' to learn more about interactive tables.';\n",
              "          element.innerHTML = '';\n",
              "          dataTable['output_type'] = 'display_data';\n",
              "          await google.colab.output.renderOutput(dataTable, element);\n",
              "          const docLink = document.createElement('div');\n",
              "          docLink.innerHTML = docLinkHtml;\n",
              "          element.appendChild(docLink);\n",
              "        }\n",
              "      </script>\n",
              "    </div>\n",
              "  </div>\n",
              "  "
            ],
            "text/plain": [
              "         ID ano_nascimento   escolaridade estado_civil    renda  qtd_crianca  \\\n",
              "2177    492           1973  pos_doutorado         yolo  48432.0            0   \n",
              "2202  11133           1973  pos_doutorado         yolo  48432.0            0   \n",
              "\n",
              "      qtd_adolescente data_filiação  dias_ultima_compra  gasto_vinho  \\\n",
              "2177                1    2012-10-18                   3          322   \n",
              "2202                1    2012-10-18                   3          322   \n",
              "\n",
              "      gasto_fruta  gasto_carne  ...  compras_promoção  compras_website  \\\n",
              "2177            3           50  ...                 5                7   \n",
              "2202            3           50  ...                 5                7   \n",
              "\n",
              "      compras_catalogo  compras_loja  visitas_website  campanha_3  campanha_4  \\\n",
              "2177                 1             6                8           0           0   \n",
              "2202                 1             6                8           0           0   \n",
              "\n",
              "      campanha_5  campanha_1  campanha_2  reclamacao  resposta  \n",
              "2177           0           0           0           0         0  \n",
              "2202           0           0           0           0         1  \n",
              "\n",
              "[2 rows x 27 columns]"
            ]
          },
          "execution_count": 31,
          "metadata": {},
          "output_type": "execute_result"
        }
      ],
      "source": [
        "#Para verificar o Yolo\n",
        "ftyolo = df_1.estado_civil == 'yolo'\n",
        "df_1.loc[ftyolo]"
      ]
    },
    {
      "cell_type": "code",
      "execution_count": null,
      "metadata": {
        "id": "AUeXhxe0dR0B"
      },
      "outputs": [],
      "source": [
        "#dropar linha pois foi verificado que é a mesma pessoa \n",
        "df_1.drop([2202], axis=0, inplace=True)"
      ]
    },
    {
      "cell_type": "code",
      "execution_count": null,
      "metadata": {
        "id": "NUYKq9M_bsUd"
      },
      "outputs": [],
      "source": [
        "df_1.to_csv('dados_marketing_geral.csv', index=False)"
      ]
    },
    {
      "cell_type": "markdown",
      "metadata": {
        "id": "HHEmBXyOiUKH"
      },
      "source": [
        "##4.2.PySpark"
      ]
    },
    {
      "cell_type": "code",
      "execution_count": null,
      "metadata": {
        "id": "g575lJTKh5nd"
      },
      "outputs": [],
      "source": [
        "esquema = (\n",
        "    StructType([\n",
        "        StructField('ID', IntegerType(), False),\n",
        "        StructField('ano_nascimento', IntegerType(), True),\n",
        "        StructField('escolaridade', StringType(), True),\n",
        "        StructField('estado_civil', StringType(), True),\n",
        "        StructField('renda', FloatType(), True),\n",
        "        StructField('qtd_crianca', IntegerType(), True),\n",
        "        StructField('qtd_adolescente', IntegerType(), True),\n",
        "        StructField('data_filiação', TimestampType(), True),\n",
        "        StructField('dias_ultima_compra', IntegerType(), True),\n",
        "        StructField('gasto_vinho', IntegerType(), True),\n",
        "        StructField('gasto_fruta', IntegerType(), True),\n",
        "        StructField('gasto_carne', IntegerType(), True),\n",
        "        StructField('gasto_peixe', IntegerType(), True),\n",
        "        StructField('gasto_doce', IntegerType(), True),\n",
        "        StructField('gasto_ouro', IntegerType(), True),\n",
        "        StructField('compras_promoção', IntegerType(), True),\n",
        "        StructField('compras_website', IntegerType(), True),\n",
        "        StructField('compras_catalogo', IntegerType(), True),\n",
        "        StructField('compras_loja', IntegerType(), True),\n",
        "        StructField('visitas_website', IntegerType(), True),\n",
        "        StructField('campanha_3', IntegerType(), True),\n",
        "        StructField('campanha_4', IntegerType(), True),\n",
        "        StructField('campanha_5', IntegerType(), True),\n",
        "        StructField('campanha_1', IntegerType(), True),\n",
        "        StructField('campanha_2', IntegerType(), True),\n",
        "        StructField('reclamacao', IntegerType(), True),\n",
        "        StructField('campanha_ultima', IntegerType(), True),\n",
        "    ])\n",
        ")"
      ]
    },
    {
      "cell_type": "code",
      "execution_count": null,
      "metadata": {
        "id": "E6gI2pkWkLmC"
      },
      "outputs": [],
      "source": [
        "#criar o df em pyspark estruturado\n",
        "df_spark = (spark.read.format('csv')\n",
        "              .option('header','true')\n",
        "              .option('delimiter',',')\n",
        "              .option('inferschema','false')\n",
        "              .load('/content/dados_marketing_geral.csv', schema = esquema)\n",
        ")"
      ]
    },
    {
      "cell_type": "code",
      "execution_count": null,
      "metadata": {
        "id": "lVnMrgLbkM5s"
      },
      "outputs": [],
      "source": [
        "# Backup\n",
        "df2 = df_spark"
      ]
    },
    {
      "cell_type": "markdown",
      "metadata": {
        "id": "R3CLzylGG5tY"
      },
      "source": [
        "###Pre analise PySpark"
      ]
    },
    {
      "cell_type": "code",
      "execution_count": null,
      "metadata": {
        "colab": {
          "base_uri": "https://localhost:8080/"
        },
        "id": "8VleglupI68f",
        "outputId": "6ef73967-1497-4176-88f5-45f91642154b"
      },
      "outputs": [],
      "source": [
        "df_spark.show(2)"
      ]
    },
    {
      "cell_type": "code",
      "execution_count": null,
      "metadata": {
        "id": "jc6VDsPYHyT5"
      },
      "outputs": [],
      "source": [
        "df_spark.printSchema()"
      ]
    },
    {
      "cell_type": "code",
      "execution_count": null,
      "metadata": {
        "id": "AWE-LpRRB7Hu"
      },
      "outputs": [],
      "source": [
        "df_spark.summary().show()"
      ]
    },
    {
      "cell_type": "markdown",
      "metadata": {
        "id": "qUjuFqR5I17v"
      },
      "source": [
        "##Tratamento"
      ]
    },
    {
      "cell_type": "code",
      "execution_count": null,
      "metadata": {
        "id": "LXXf1ayVHnIm"
      },
      "outputs": [],
      "source": [
        "# Drop linhas duplicadas no dataframe\n",
        "df_spark = df_spark.dropDuplicates()\n",
        "df_spark = df_spark.distinct()"
      ]
    },
    {
      "cell_type": "code",
      "execution_count": null,
      "metadata": {
        "id": "YqJ0zqDtLqYr"
      },
      "outputs": [],
      "source": [
        "# Criando colunas\n",
        "df_spark = (df_spark.withColumn('idade', 2022 - F.col('ano_nascimento')))"
      ]
    },
    {
      "cell_type": "code",
      "execution_count": null,
      "metadata": {
        "id": "Sth3yCW2O6iN"
      },
      "outputs": [],
      "source": [
        "df_spark = (df_spark.withColumn('filhos', F.col('qtd_crianca') + F.col('qtd_adolescente')))"
      ]
    },
    {
      "cell_type": "code",
      "execution_count": null,
      "metadata": {
        "id": "WcUhDCcQQiKX"
      },
      "outputs": [],
      "source": [
        "# Eliminando colunas criança e adolescente\n",
        "df_spark = df_spark.drop(F.col('qtd_adolescente')).drop(F.col('qtd_crianca'))"
      ]
    },
    {
      "cell_type": "markdown",
      "metadata": {
        "id": "iceDSYXkRd4-"
      },
      "source": [
        "#5.Load"
      ]
    },
    {
      "cell_type": "markdown",
      "metadata": {
        "id": "fnHOhX1NRsAb"
      },
      "source": [
        "##5.1.Carregar para Google Cloud"
      ]
    },
    {
      "cell_type": "code",
      "execution_count": null,
      "metadata": {
        "id": "sjc9t6wpQ9Jt"
      },
      "outputs": [],
      "source": [
        "#Enviar para o datalake \n",
        "df_spark.write.csv('gs://projeto_cat/TRATADOS', sep=',', mode='append', header=True)"
      ]
    },
    {
      "cell_type": "markdown",
      "metadata": {
        "id": "vYbHdM-_RzTU"
      },
      "source": [
        "##5.2.Carregar para o Mongo DB"
      ]
    },
    {
      "cell_type": "code",
      "execution_count": null,
      "metadata": {
        "id": "NqBbDw3-T5lC"
      },
      "outputs": [],
      "source": [
        "#transformar de Pypark para PANDAS\n",
        "df_geral = df_spark.toPandas()"
      ]
    },
    {
      "cell_type": "code",
      "execution_count": null,
      "metadata": {
        "colab": {
          "base_uri": "https://localhost:8080/"
        },
        "id": "hzr5ba_6Ulrd",
        "outputId": "2176919c-64cc-4f39-c9ef-7764dec30921"
      },
      "outputs": [
        {
          "data": {
            "text/plain": [
              "<pymongo.results.InsertManyResult at 0x7ff15a1e7100>"
            ]
          },
          "execution_count": 51,
          "metadata": {},
          "output_type": "execute_result"
        }
      ],
      "source": [
        "colecao_3 = db['marketing_campaign-TRATADO']\n",
        "df3_dict = df_geral.to_dict('records')\n",
        "# Inserindo os dados no mongodb\n",
        "colecao_3.insert_many(df3_dict)"
      ]
    },
    {
      "cell_type": "markdown",
      "metadata": {
        "id": "xACvhjlQR2C9"
      },
      "source": [
        "##5.3.Carregar para o MySQL"
      ]
    },
    {
      "cell_type": "code",
      "execution_count": null,
      "metadata": {
        "id": "fDkvGd98R5B9"
      },
      "outputs": [],
      "source": [
        "# dados de para realizar conexão com o servidor\n",
        "servidor = '35.223.189.162'\n",
        "nome_do_banco = 'DadosImoveis'\n",
        "usuario = 'xxxx'\n",
        "senha = 'xxxx'\n",
        "\n",
        "# ciar uma SQLAlchemy engine para conectar com o MySQL \n",
        "engine = create_engine(\"mysql+pymysql://{user}:{pw}@{host}/{db}\"\n",
        "\t\t\t\t.format(host=servidor, db=nome_do_banco, user=usuario, pw=senha))\n",
        "\n",
        "# convertendo dataframe em uma table do sql                                   \n",
        "df_geral.to_sql('dados_marketing2', engine, index=True)"
      ]
    }
  ],
  "metadata": {
    "colab": {
      "collapsed_sections": [
        "cij2uj-IgPIR",
        "H5YciI29gWYJ",
        "DfV7RBHygxX9"
      ],
      "provenance": []
    },
    "kernelspec": {
      "display_name": "Python 3",
      "language": "python",
      "name": "python3"
    },
    "language_info": {
      "name": "python",
      "version": "3.10.6"
    },
    "vscode": {
      "interpreter": {
        "hash": "916dbcbb3f70747c44a77c7bcd40155683ae19c65e1c03b4aa3499c5328201f1"
      }
    }
  },
  "nbformat": 4,
  "nbformat_minor": 0
}
